{
 "cells": [
  {
   "cell_type": "code",
   "execution_count": 5,
   "metadata": {},
   "outputs": [
    {
     "name": "stdout",
     "output_type": "stream",
     "text": [
      " * Serving Flask app \"__main__\" (lazy loading)\n",
      " * Environment: production\n",
      "   WARNING: This is a development server. Do not use it in a production deployment.\n",
      "   Use a production WSGI server instead.\n",
      " * Debug mode: off\n"
     ]
    },
    {
     "name": "stderr",
     "output_type": "stream",
     "text": [
      " * Running on http://127.0.0.1:5000/ (Press CTRL+C to quit)\n",
      "[2021-02-22 12:40:39,586] ERROR in app: Exception on /predict [GET]\n",
      "Traceback (most recent call last):\n",
      "  File \"D:\\Anaconda3\\envs\\OReilly-Hands_on_Machinel\\lib\\site-packages\\flask\\app.py\", line 2447, in wsgi_app\n",
      "    response = self.full_dispatch_request()\n",
      "  File \"D:\\Anaconda3\\envs\\OReilly-Hands_on_Machinel\\lib\\site-packages\\flask\\app.py\", line 1952, in full_dispatch_request\n",
      "    rv = self.handle_user_exception(e)\n",
      "  File \"D:\\Anaconda3\\envs\\OReilly-Hands_on_Machinel\\lib\\site-packages\\flask\\app.py\", line 1821, in handle_user_exception\n",
      "    reraise(exc_type, exc_value, tb)\n",
      "  File \"D:\\Anaconda3\\envs\\OReilly-Hands_on_Machinel\\lib\\site-packages\\flask\\_compat.py\", line 39, in reraise\n",
      "    raise value\n",
      "  File \"D:\\Anaconda3\\envs\\OReilly-Hands_on_Machinel\\lib\\site-packages\\flask\\app.py\", line 1950, in full_dispatch_request\n",
      "    rv = self.dispatch_request()\n",
      "  File \"D:\\Anaconda3\\envs\\OReilly-Hands_on_Machinel\\lib\\site-packages\\flask\\app.py\", line 1936, in dispatch_request\n",
      "    return self.view_functions[rule.endpoint](**req.view_args)\n",
      "  File \"<ipython-input-5-e1660c012af1>\", line 47, in predict_note_authentication\n",
      "    prediction = classifer.predict([[variance, skewness,curtosis, entropy]])\n",
      "  File \"D:\\Anaconda3\\envs\\OReilly-Hands_on_Machinel\\lib\\site-packages\\sklearn\\ensemble\\_forest.py\", line 629, in predict\n",
      "    proba = self.predict_proba(X)\n",
      "  File \"D:\\Anaconda3\\envs\\OReilly-Hands_on_Machinel\\lib\\site-packages\\sklearn\\ensemble\\_forest.py\", line 673, in predict_proba\n",
      "    X = self._validate_X_predict(X)\n",
      "  File \"D:\\Anaconda3\\envs\\OReilly-Hands_on_Machinel\\lib\\site-packages\\sklearn\\ensemble\\_forest.py\", line 421, in _validate_X_predict\n",
      "    return self.estimators_[0]._validate_X_predict(X, check_input=True)\n",
      "  File \"D:\\Anaconda3\\envs\\OReilly-Hands_on_Machinel\\lib\\site-packages\\sklearn\\tree\\_classes.py\", line 388, in _validate_X_predict\n",
      "    X = check_array(X, dtype=DTYPE, accept_sparse=\"csr\")\n",
      "  File \"D:\\Anaconda3\\envs\\OReilly-Hands_on_Machinel\\lib\\site-packages\\sklearn\\utils\\validation.py\", line 72, in inner_f\n",
      "    return f(**kwargs)\n",
      "  File \"D:\\Anaconda3\\envs\\OReilly-Hands_on_Machinel\\lib\\site-packages\\sklearn\\utils\\validation.py\", line 645, in check_array\n",
      "    allow_nan=force_all_finite == 'allow-nan')\n",
      "  File \"D:\\Anaconda3\\envs\\OReilly-Hands_on_Machinel\\lib\\site-packages\\sklearn\\utils\\validation.py\", line 99, in _assert_all_finite\n",
      "    msg_dtype if msg_dtype is not None else X.dtype)\n",
      "ValueError: Input contains NaN, infinity or a value too large for dtype('float32').\n",
      "127.0.0.1 - - [22/Feb/2021 12:40:39] \"\u001b[35m\u001b[1mGET /predict HTTP/1.1\u001b[0m\" 500 -\n"
     ]
    }
   ],
   "source": [
    "from flask import Flask,request\n",
    "import numpy as np\n",
    "import pandas as pd\n",
    "import pickle\n",
    "\n",
    "app = Flask(__name__)\n",
    "pickle_in = open('classifier.pkl', 'rb')\n",
    "classifer = pickle.load(pickle_in)\n",
    "\n",
    "@app.route('/')\n",
    "def welcome():\n",
    "    return \"welcome ALL\"\n",
    "\n",
    "@app.route('/predict')\n",
    "def predict_note_authentication():\n",
    "\n",
    "    variance = request.args.get(\"variance\")\n",
    "    skewness = request.args.get(\"skewness\")\n",
    "    curtosis = request.args.get(\"curtosis\")\n",
    "    entropy = request.args.get(\"entropy\")\n",
    "    prediction = classifer.predict([[variance, skewness,curtosis, entropy]])\n",
    "    return \"The prodicted value is \" + str(prediction)\n",
    "    \n",
    "\n",
    "@app.route('/predict_file',methods=[\"POST\"])\n",
    "def predict_note_file():\n",
    "    \"\"\"Let's Authenticate the Banks Note \n",
    "    This is using docstrings for specifications.\n",
    "    ---\n",
    "    parameters:\n",
    "      - name: file\n",
    "        in: formData\n",
    "        type: file\n",
    "        required: true\n",
    "      \n",
    "    responses:\n",
    "        200:\n",
    "            description: The output values\n",
    "        \n",
    "    \"\"\"\n",
    "    df_test=pd.read_csv(request.files.get(\"file\"))\n",
    "    print(df_test.head())\n",
    "    prediction=classifier.predict(df_test)\n",
    "    \n",
    "    return \"The predicted value of text is \" + str(list(prediction))\n",
    "\n",
    "\n",
    "\n",
    "if __name__ == '__main__':\n",
    "    app.run()"
   ]
  },
  {
   "cell_type": "code",
   "execution_count": null,
   "metadata": {},
   "outputs": [],
   "source": []
  }
 ],
 "metadata": {
  "kernelspec": {
   "display_name": "Python 3",
   "language": "python",
   "name": "python3"
  },
  "language_info": {
   "codemirror_mode": {
    "name": "ipython",
    "version": 3
   },
   "file_extension": ".py",
   "mimetype": "text/x-python",
   "name": "python",
   "nbconvert_exporter": "python",
   "pygments_lexer": "ipython3",
   "version": "3.7.7"
  }
 },
 "nbformat": 4,
 "nbformat_minor": 4
}
